{
 "cells": [
  {
   "cell_type": "code",
   "execution_count": 2,
   "metadata": {},
   "outputs": [
    {
     "name": "stderr",
     "output_type": "stream",
     "text": [
      "C:\\Users\\86535\\Anaconda3\\lib\\site-packages\\sklearn\\cross_validation.py:44: DeprecationWarning: This module was deprecated in version 0.18 in favor of the model_selection module into which all the refactored classes and functions are moved. Also note that the interface of the new CV iterators are different from that of this module. This module will be removed in 0.20.\n",
      "  \"This module will be removed in 0.20.\", DeprecationWarning)\n"
     ]
    }
   ],
   "source": [
    "import pandas as pd\n",
    "import numpy as np\n",
    "import matplotlib.pyplot as plt\n",
    "import datetime\n",
    "from sklearn.cross_validation import train_test_split\n",
    "from sklearn.ensemble import GradientBoostingRegressor\n",
    "from sklearn.model_selection import train_test_split"
   ]
  },
  {
   "cell_type": "code",
   "execution_count": 4,
   "metadata": {},
   "outputs": [],
   "source": [
    "def loc_id_cnt(num):\n",
    "    df = pd.read_csv('./data/%02d.csv'%num)\n",
    "    df_res = df.groupby(['time_stamp', 'loc_id']).agg({ 'phone_id':'count'})\n",
    "    df_res.reset_index(inplace=True)\n",
    "    return df_res\n",
    "\n",
    "df = pd.DataFrame()\n",
    "for i in range(10, 12):\n",
    "    _df = loc_id_cnt(i)\n",
    "    df = df.append(_df)"
   ]
  },
  {
   "cell_type": "code",
   "execution_count": 5,
   "metadata": {
    "collapsed": true
   },
   "outputs": [],
   "source": [
    "df = df[(df.time_stamp>='2017-10-09 00')]\n",
    "#df = df[(df.time_stamp<'2017-07-10 00')]"
   ]
  },
  {
   "cell_type": "code",
   "execution_count": 6,
   "metadata": {
    "collapsed": true
   },
   "outputs": [],
   "source": [
    "def handle(df):\n",
    "    # 时间维度\n",
    "    df['datetime'] = df.time_stamp.apply(pd.to_datetime)\n",
    "    del df['time_stamp']\n",
    "    #df['month'] = df.datetime.apply(lambda x: x.month)\n",
    "    df['day'] = df.datetime.apply(lambda x: x.day)\n",
    "    df['hour'] = df.datetime.apply(lambda x: x.hour)\n",
    "    df['weekday'] = df.datetime.apply(lambda x: x.weekday())\n",
    "    df['weekend'] = df.datetime.apply(lambda x: int(x.weekday()>4))\n",
    "    # 加入假期，节假日\n",
    "    \"\"\"\n",
    "    def isSummer(x):\n",
    "        if x > '2017-07-15 00:00:00' and x < '2017-09-03:00:00:00':\n",
    "            return 1\n",
    "        else:\n",
    "            return 0\n",
    "\n",
    "    def isSummerNear(x):\n",
    "        if x > '2017-07-12 00:00:00' and x < '2017-07-15:00:00:00':\n",
    "            return 1\n",
    "        elif x > '2017-09-03 00:00:00' and x < '2017-09-06:00:00:00'::\n",
    "            return 0 \n",
    "    \"\"\"\n",
    "    def isHoliday(x):\n",
    "        if x.date() == datetime.date(2017, 4, 4) or \\\n",
    "           x.date() == datetime.date(2017, 5, 1) or \\\n",
    "           x.date() == datetime.date(2017, 5, 30) or \\\n",
    "           x.date() == datetime.date(2017, 1, 1) or \\\n",
    "           x.date() >= datetime.date(2017, 10, 1) and x.date() <= datetime.date(2017, 10, 8):\n",
    "            return 1\n",
    "        else:\n",
    "            return 0\n",
    "    df['isHoliday'] = df.datetime.apply(isHoliday)\n",
    "    return df\n",
    "df = handle(df)"
   ]
  },
  {
   "cell_type": "code",
   "execution_count": 7,
   "metadata": {
    "collapsed": true
   },
   "outputs": [],
   "source": [
    "# load weather\n",
    "def load_weather():\n",
    "    w = pd.read_csv('weather.csv')\n",
    "    w['datetime'] = (w.day.astype(str) + ' '+ w.time + ':00').apply(pd.to_datetime)\n",
    "    del w['day']\n",
    "    del w['time']\n",
    "    w.head()\n",
    "    return w\n",
    "w = load_weather()\n",
    "\n",
    "def handle_features(each, w):\n",
    "    df1 = pd.merge(each, w, on='datetime', how='left')\n",
    "    df1.weather.replace({u'晴天':1,\n",
    "                         u'晴朗':1, \n",
    "                         u'局部多云':1,\n",
    "                         u'多云': 1,\n",
    "                         u'薄雾':3,\n",
    "                         u'阴天':3,\n",
    "                         u'周边零星小雨': 2,\n",
    "                         u'细雨': 2,\n",
    "                         u'小雨':2,\n",
    "                         u'小雨夹雪':2,\n",
    "                         u'零星细雨': 2,\n",
    "                         u'零星小雨': 2,\n",
    "                         u'小阵雨':2,\n",
    "                         u'中雨': 4,\n",
    "                         u'中到大阵雨': 4, \n",
    "                         u'周边雷暴': 4, \n",
    "                         u'零星雷雨': 4,\n",
    "                         u'有时中雨': 4,\n",
    "                         u'大雨': 5,\n",
    "                         u'暴阵雨': 5,\n",
    "                         u'中到大雷雨':5}, inplace=True)\n",
    "    def handle_temp(x):\n",
    "        if x < -5: return 1\n",
    "        elif x < 5: return 2\n",
    "        elif x < 15: return 3\n",
    "        elif x < 25: return 4\n",
    "        elif x< 35: return 5\n",
    "        else: return 6\n",
    "    df1['body_temp'] = df1.body_temp.apply(lambda x: float(x[:-1]))\n",
    "    df1['temp'] = df1.temp.apply(lambda x: float(x[:-1]))\n",
    "    df1['body_temp'] = df1['body_temp'].apply(handle_temp)\n",
    "    df1['temp'] = df1['temp'].apply(handle_temp)\n",
    "    df1['wind'] = df1.wind.apply(lambda x: float(x[:-1]) if x != '-' else 0)\n",
    "    df1['shidu'] = df1.shidu.apply(lambda x: float(x[:-1]))\n",
    "    df1['rain'] = df1.rain.apply(lambda x: float(x[:-2]) if x != '-' else 0)\n",
    "    \n",
    "    def oneHot(df1, col):\n",
    "        from sklearn.preprocessing import OneHotEncoder\n",
    "        enc = OneHotEncoder()\n",
    "        ser = df1[col]\n",
    "        enc.fit([[i] for i in ser])\n",
    "        arr = enc.transform([[i] for i in ser]).toarray()\n",
    "        concat_df = pd.DataFrame(arr, columns=[col+'_'+str(i) for i in range(1,len(arr[1])+1)])\n",
    "        df = pd.concat([df1, concat_df],axis=1)\n",
    "        del df[col]\n",
    "        return df\n",
    "    \n",
    "    df1 = oneHot(df1, 'weather')\n",
    "    df1 = oneHot(df1, 'body_temp')\n",
    "    df1 = oneHot(df1, 'temp')\n",
    "    return df1\n",
    "\n",
    "loc_df = []\n",
    "for i in range(1, 34):\n",
    "    _df = df[df.loc_id==i]\n",
    "    _df = handle_features(_df, w)\n",
    "    _df.reset_index(inplace=True, drop=True)\n",
    "    loc_df.append(_df)"
   ]
  },
  {
   "cell_type": "raw",
   "metadata": {},
   "source": [
    "import pickle as pkl\n",
    "with open('loc_df_list.pkl','wb') as f:\n",
    "    pkl.dump(loc_df, f)"
   ]
  },
  {
   "cell_type": "raw",
   "metadata": {
    "collapsed": true
   },
   "source": [
    "def replenish_miss_value_with_nan(each):\n",
    "    carry = datetime.datetime(2017,3,1,0,0,0)\n",
    "    hour_delta = datetime.timedelta(hours=1)\n",
    "    time_stamp_set = set(each.datetime)\n",
    "\n",
    "    each.set_index('datetime',inplace=True)\n",
    "    while carry < datetime.datetime(2017,7,1,10,0,0):\n",
    "        if carry not in time_stamp_set:\n",
    "            each.loc[carry] = [np.nan for i in range(len(each.columns))]\n",
    "        carry += hour_delta\n",
    "    each.sort_index(inplace=True)\n",
    "    each.reset_index(inplace=True)\n",
    "    return each"
   ]
  },
  {
   "cell_type": "code",
   "execution_count": 16,
   "metadata": {
    "collapsed": true
   },
   "outputs": [],
   "source": [
    "def rmse(y_test, pred):\n",
    "    return np.sqrt(np.mean(np.square(y_test.values - pred)))"
   ]
  },
  {
   "cell_type": "code",
   "execution_count": 33,
   "metadata": {},
   "outputs": [
    {
     "data": {
      "text/plain": [
       "0    111\n",
       "1    379\n",
       "2    644\n",
       "3    836\n",
       "4    245\n",
       "Name: phone_id, dtype: int64"
      ]
     },
     "execution_count": 33,
     "metadata": {},
     "output_type": "execute_result"
    }
   ],
   "source": [
    "loc_df[22]['phone_id'].head()"
   ]
  },
  {
   "cell_type": "code",
   "execution_count": 34,
   "metadata": {
    "collapsed": true
   },
   "outputs": [],
   "source": [
    "def train_each_loc(locid):\n",
    "    # 取一个地点的\n",
    "    each = loc_df[locid]\n",
    "    #each = replenish_miss_value_with_nan(each)\n",
    "    X = each.dropna().iloc[:,3:]\n",
    "    y = each.dropna()['phone_id']\n",
    "\n",
    "    X_train,X_test, y_train, y_test = train_test_split(X, y, test_size = 0.1, random_state = 0)\n",
    "    gbdt=GradientBoostingRegressor(\n",
    "      loss='huber'\n",
    "    , learning_rate=0.1\n",
    "    , n_estimators=300\n",
    "    , subsample=1\n",
    "    , min_samples_split=2\n",
    "    , min_samples_leaf=1\n",
    "    , max_depth=3\n",
    "    , init=None\n",
    "    , random_state=None\n",
    "    , max_features=None\n",
    "    , alpha=0.9\n",
    "    , verbose=0\n",
    "    , max_leaf_nodes=None\n",
    "    , warm_start=False\n",
    "    )\n",
    "    #try:\n",
    "    gbdt.fit(X_train,y_train)\n",
    "    #except:\n",
    "    #    print(X_train, y_train)\n",
    "    pred=gbdt.predict(X_test)\n",
    "    print(rmse(y_test, pred))\n",
    "    return gbdt"
   ]
  },
  {
   "cell_type": "code",
   "execution_count": 35,
   "metadata": {
    "scrolled": false
   },
   "outputs": [
    {
     "name": "stdout",
     "output_type": "stream",
     "text": [
      "************************loc id:  1\n",
      "105.6587530237652\n",
      "************************loc id:  2\n",
      "136.3441272431546\n",
      "************************loc id:  3\n",
      "143.0339229093415\n",
      "************************loc id:  4\n",
      "81.73952703764118\n",
      "************************loc id:  5\n",
      "118.31269052374758\n",
      "************************loc id:  6\n",
      "113.43070779024588\n",
      "************************loc id:  7\n",
      "64.75763998195404\n",
      "************************loc id:  8\n",
      "397.5433285674354\n",
      "************************loc id:  9\n",
      "81.83141906270751\n",
      "************************loc id:  10\n",
      "395.1377658278231\n",
      "************************loc id:  11\n",
      "120.98471748953504\n",
      "************************loc id:  12\n",
      "510.16715105448833\n",
      "************************loc id:  13\n",
      "67.3111207521999\n",
      "************************loc id:  14\n",
      "80.27150768895945\n",
      "************************loc id:  15\n",
      "120.4131133266082\n",
      "************************loc id:  16\n",
      "110.5214785783805\n",
      "************************loc id:  17\n",
      "149.9415835308491\n",
      "************************loc id:  18\n",
      "110.28427701975274\n",
      "************************loc id:  19\n",
      "98.10067075973596\n",
      "************************loc id:  20\n",
      "179.2788697047525\n",
      "************************loc id:  21\n",
      "123.17571593493255\n",
      "************************loc id:  22\n",
      "65.68037700704403\n",
      "************************loc id:  23\n",
      "134.45975344564818\n",
      "************************loc id:  24\n",
      "145.4716723320539\n",
      "************************loc id:  25\n",
      "148.5966671582527\n",
      "************************loc id:  26\n",
      "69.1458804496295\n",
      "************************loc id:  27\n",
      "157.46262314378995\n",
      "************************loc id:  28\n",
      "109.4000687247589\n",
      "************************loc id:  29\n",
      "416.8687749281564\n",
      "************************loc id:  30\n",
      "142.17763668640825\n",
      "************************loc id:  31\n",
      "133.13764903564686\n",
      "************************loc id:  32\n",
      "68.09458701948346\n",
      "************************loc id:  33\n",
      "132.57086910274214\n"
     ]
    }
   ],
   "source": [
    "model_list = []\n",
    "for locid in range(0, 33):\n",
    "    print(\"************************loc id: \", locid+1)\n",
    "    model = train_each_loc(locid)\n",
    "    model_list.append(model)"
   ]
  },
  {
   "cell_type": "code",
   "execution_count": 39,
   "metadata": {},
   "outputs": [
    {
     "data": {
      "image/png": "[encoded data removed]",
      "text/plain": [
       "<matplotlib.figure.Figure at 0x1dd87ba9b00>"
      ]
     },
     "metadata": {},
     "output_type": "display_data"
    }
   ],
   "source": [
    "loc_df[11].phone_id.plot(figsize=(20,5))\n",
    "plt.show()"
   ]
  },
  {
   "cell_type": "code",
   "execution_count": 220,
   "metadata": {
    "collapsed": true
   },
   "outputs": [],
   "source": [
    "fl = ['day', 'hour', 'weekday', 'weekend',\n",
    "       'isHoliday', 'shidu', 'wind', 'rain', 'weather_1', 'weather_2',\n",
    "       'weather_3', 'weather_4', 'weather_5', 'body_temp_1', 'body_temp_2',\n",
    "       'body_temp_3', 'body_temp_4', 'body_temp_5', 'temp_1', 'temp_2',\n",
    "       'temp_3', 'temp_4', 'temp_5']\n",
    "\n",
    "nov = pd.DataFrame()\n",
    "time_stamp_list = []\n",
    "stamp = datetime.datetime(2017,11,1,0,0,0)\n",
    "time_delta = datetime.timedelta(hours=1)\n",
    "while stamp < datetime.datetime(2017,12,1,0,0,0):\n",
    "    time_stamp_list.append(stamp)\n",
    "    stamp += time_delta\n",
    "nov['datetime'] = pd.Series(time_stamp_list)\n",
    "nov['time_stamp'] = pd.Series(str(i)[:-6] for i in time_stamp_list)\n",
    "nov = handle(nov)\n",
    "nov = handle_features(nov, w)\n",
    "novfl = nov.iloc[:,1:].columns\n",
    "for col in (set(fl) - set(novfl)):\n",
    "    nov[col] = 0\n",
    "\n",
    "res = pd.DataFrame()\n",
    "for loc_id, model in enumerate(model_list):\n",
    "    model.predict(nov.iloc[:,1:])\n",
    "    _df = pd.DataFrame()\n",
    "    _df['loc_id'] = [loc_id+1 for _ in range(len(nov))]\n",
    "    _df['time_stamp'] = pd.Series(str(i)[:-6] for i in time_stamp_list)\n",
    "    _df['num_of_people'] = model.predict(nov.iloc[:,1:])\n",
    "    res = res.append(_df)"
   ]
  },
  {
   "cell_type": "code",
   "execution_count": 235,
   "metadata": {},
   "outputs": [
    {
     "data": {
      "text/plain": [
       "0.024284511784511784"
      ]
     },
     "execution_count": 235,
     "metadata": {},
     "output_type": "execute_result"
    }
   ],
   "source": [
    "len(res[res.num_of_people<0])/len(res)"
   ]
  },
  {
   "cell_type": "code",
   "execution_count": 236,
   "metadata": {},
   "outputs": [
    {
     "name": "stdout",
     "output_type": "stream",
     "text": [
      "151.97210465544154\n",
      "198.59056939027118\n",
      "32.864655451773565\n",
      "59.05527689094405\n",
      "108.8978108022748\n",
      "56.81325543944435"
     ]
    },
    {
     "name": "stderr",
     "output_type": "stream",
     "text": [
      "C:\\Users\\86535\\Anaconda3\\lib\\site-packages\\ipykernel_launcher.py:9: SettingWithCopyWarning: \n",
      "A value is trying to be set on a copy of a slice from a DataFrame.\n",
      "Try using .loc[row_indexer,col_indexer] = value instead\n",
      "\n",
      "See the caveats in the documentation: http://pandas.pydata.org/pandas-docs/stable/indexing.html#indexing-view-versus-copy\n",
      "  if __name__ == '__main__':\n"
     ]
    },
    {
     "name": "stdout",
     "output_type": "stream",
     "text": [
      "\n",
      "26.426918079481872\n",
      "-12.050137019099488\n",
      "58.68552654511632\n",
      "6.2862135744620575\n",
      "135.75676127542715\n",
      "40.65074557446089\n",
      "18.588730029457587\n",
      "13.699326892865036\n",
      "2.097818835524133\n",
      "-28.18803958628177\n",
      "82.00747939274721\n",
      "263.08791821231586\n",
      "58.757055139964315\n",
      "-3.610501320297126\n",
      "126.0818351907181\n",
      "2.4853240622862955\n",
      "170.1928921431579\n",
      "9.47947354217381\n",
      "83.11665065977523\n",
      "-7.584185090265076\n",
      "-6.976882050101187\n",
      "79.90141495846198\n",
      "40.09091129215136\n",
      "211.80514811762512\n",
      "32.77926809654827\n",
      "11.557822347464532\n",
      "8.68220964188169\n"
     ]
    }
   ],
   "source": [
    "resNoZero = pd.DataFrame()\n",
    "def helper(x):\n",
    "    return x\n",
    "\n",
    "for locid in range(1, 34):\n",
    "    tmp = res[res.loc_id==locid]\n",
    "    minNum = min(tmp.num_of_people)\n",
    "    print(tmp['num_of_people'].quantile(0.05))\n",
    "    tmp['num_of_people'] = tmp['num_of_people'].apply(helper)\n",
    "    resNoZero = resNoZero.append(tmp)"
   ]
  },
  {
   "cell_type": "code",
   "execution_count": 226,
   "metadata": {
    "collapsed": true
   },
   "outputs": [],
   "source": [
    "resNoZero = resNoZero.sort_values(['time_stamp','loc_id'])\n",
    "resNoZero.to_csv('gbdt_res.csv', index=False)"
   ]
  },
  {
   "cell_type": "code",
   "execution_count": 227,
   "metadata": {},
   "outputs": [
    {
     "data": {
      "text/html": [
       "<div>\n",
       "<style>\n",
       "    .dataframe thead tr:only-child th {\n",
       "        text-align: right;\n",
       "    }\n",
       "\n",
       "    .dataframe thead th {\n",
       "        text-align: left;\n",
       "    }\n",
       "\n",
       "    .dataframe tbody tr th {\n",
       "        vertical-align: top;\n",
       "    }\n",
       "</style>\n",
       "<table border=\"1\" class=\"dataframe\">\n",
       "  <thead>\n",
       "    <tr style=\"text-align: right;\">\n",
       "      <th></th>\n",
       "      <th>loc_id</th>\n",
       "      <th>time_stamp</th>\n",
       "      <th>num_of_people</th>\n",
       "    </tr>\n",
       "  </thead>\n",
       "  <tbody>\n",
       "    <tr>\n",
       "      <th>0</th>\n",
       "      <td>1</td>\n",
       "      <td>2017-11-01 00</td>\n",
       "      <td>155.249417</td>\n",
       "    </tr>\n",
       "    <tr>\n",
       "      <th>0</th>\n",
       "      <td>2</td>\n",
       "      <td>2017-11-01 00</td>\n",
       "      <td>212.224988</td>\n",
       "    </tr>\n",
       "    <tr>\n",
       "      <th>0</th>\n",
       "      <td>3</td>\n",
       "      <td>2017-11-01 00</td>\n",
       "      <td>152.642498</td>\n",
       "    </tr>\n",
       "    <tr>\n",
       "      <th>0</th>\n",
       "      <td>4</td>\n",
       "      <td>2017-11-01 00</td>\n",
       "      <td>74.411219</td>\n",
       "    </tr>\n",
       "    <tr>\n",
       "      <th>0</th>\n",
       "      <td>5</td>\n",
       "      <td>2017-11-01 00</td>\n",
       "      <td>212.973682</td>\n",
       "    </tr>\n",
       "  </tbody>\n",
       "</table>\n",
       "</div>"
      ],
      "text/plain": [
       "   loc_id     time_stamp  num_of_people\n",
       "0       1  2017-11-01 00     155.249417\n",
       "0       2  2017-11-01 00     212.224988\n",
       "0       3  2017-11-01 00     152.642498\n",
       "0       4  2017-11-01 00      74.411219\n",
       "0       5  2017-11-01 00     212.973682"
      ]
     },
     "execution_count": 227,
     "metadata": {},
     "output_type": "execute_result"
    }
   ],
   "source": [
    "resNoZero.head()"
   ]
  },
  {
   "cell_type": "code",
   "execution_count": 230,
   "metadata": {
    "collapsed": true
   },
   "outputs": [],
   "source": [
    "def adjust(x):\n",
    "    if x>1000:\n",
    "        return x+200\n",
    "    elif x>500:\n",
    "        return x+100\n",
    "    elif x>0:\n",
    "        return x\n",
    "    else:\n",
    "        return 5\n",
    "resAdjust = pd.DataFrame()\n",
    "resAdjust['loc_id'] = res.loc_id\n",
    "resAdjust['time_stamp'] = res.time_stamp\n",
    "resAdjust['num_of_people'] = res.num_of_people.apply(adjust)\n",
    "\n",
    "\n",
    "resAdjust.to_csv('gbdt_resAdjust.csv', index=False)"
   ]
  },
  {
   "cell_type": "code",
   "execution_count": 239,
   "metadata": {},
   "outputs": [
    {
     "data": {
      "text/plain": [
       "0.04"
      ]
     },
     "execution_count": 239,
     "metadata": {},
     "output_type": "execute_result"
    }
   ],
   "source": [
    "20/500"
   ]
  },
  {
   "cell_type": "code",
   "execution_count": null,
   "metadata": {
    "collapsed": true
   },
   "outputs": [],
   "source": []
  }
 ],
 "metadata": {
  "kernelspec": {
   "display_name": "Python 3",
   "language": "python",
   "name": "python3"
  },
  "language_info": {
   "codemirror_mode": {
    "name": "ipython",
    "version": 3
   },
   "file_extension": ".py",
   "mimetype": "text/x-python",
   "name": "python",
   "nbconvert_exporter": "python",
   "pygments_lexer": "ipython3",
   "version": "3.6.1"
  }
 },
 "nbformat": 4,
 "nbformat_minor": 2
}
