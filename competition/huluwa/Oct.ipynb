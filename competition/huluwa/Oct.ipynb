{
 "cells": [
  {
   "cell_type": "code",
   "execution_count": 233,
   "metadata": {
    "collapsed": true
   },
   "outputs": [],
   "source": [
    "import pandas as pd\n",
    "import numpy as np\n",
    "import matplotlib.pyplot as plt\n",
    "import datetime"
   ]
  },
  {
   "cell_type": "code",
   "execution_count": 234,
   "metadata": {
    "collapsed": true
   },
   "outputs": [],
   "source": [
    "def loc_id_cnt(num):\n",
    "    df = pd.read_csv('./data/%02d.csv'%num)\n",
    "    df_res = df.groupby(['time_stamp', 'loc_id']).agg({ 'phone_id':'count'})\n",
    "    df_res.reset_index(inplace=True)\n",
    "    return df_res"
   ]
  },
  {
   "cell_type": "code",
   "execution_count": 235,
   "metadata": {
    "collapsed": true
   },
   "outputs": [],
   "source": [
    "df = loc_id_cnt(10)"
   ]
  },
  {
   "cell_type": "code",
   "execution_count": 236,
   "metadata": {
    "collapsed": true
   },
   "outputs": [],
   "source": [
    "def handle(df):\n",
    "    # 时间维度\n",
    "    df['datetime'] = df.time_stamp.apply(pd.to_datetime)\n",
    "    del df['time_stamp']\n",
    "    #df['month'] = df.datetime.apply(lambda x: x.month)\n",
    "    #df['day'] = df.datetime.apply(lambda x: x.day)\n",
    "    df['hour'] = df.datetime.apply(lambda x: x.hour)\n",
    "    df['weekday'] = df.datetime.apply(lambda x: x.weekday())\n",
    "    #df['weekend'] = df.datetime.apply(lambda x: x.weekday()>4)\n",
    "    # 加入假期，节假日\n",
    "    \"\"\"\n",
    "    def isSummer(x):\n",
    "        if x > '2017-07-15 00:00:00' and x < '2017-09-03:00:00:00':\n",
    "            return 1\n",
    "        else:\n",
    "            return 0\n",
    "\n",
    "    def isSummerNear(x):\n",
    "        if x > '2017-07-12 00:00:00' and x < '2017-07-15:00:00:00':\n",
    "            return 1\n",
    "        elif x > '2017-09-03 00:00:00' and x < '2017-09-06:00:00:00'::\n",
    "            return 0 \n",
    "    \"\"\"\n",
    "    def isHoliday(x):\n",
    "        if x.date() == datetime.date(2017, 4, 4) or \\\n",
    "           x.date() == datetime.date(2017, 5, 1) or \\\n",
    "           x.date() == datetime.date(2017, 5, 30) or \\\n",
    "           x.date() == datetime.date(2017, 1, 1) or \\\n",
    "           x.date() >= datetime.date(2017, 10, 1) and x.date() <= datetime.date(2017, 10, 8):\n",
    "            return 1\n",
    "        else:\n",
    "            return 0\n",
    "\n",
    "    #df['isHoliday'] = df.datetime.apply(isHoliday)\n",
    "    return df"
   ]
  },
  {
   "cell_type": "code",
   "execution_count": 237,
   "metadata": {
    "collapsed": true
   },
   "outputs": [],
   "source": [
    "df = handle(df)"
   ]
  },
  {
   "cell_type": "code",
   "execution_count": 238,
   "metadata": {},
   "outputs": [],
   "source": [
    "df = df[df.datetime>'2017-10-09 00:00:00']"
   ]
  },
  {
   "cell_type": "code",
   "execution_count": 239,
   "metadata": {},
   "outputs": [
    {
     "data": {
      "text/html": [
       "<div>\n",
       "<style>\n",
       "    .dataframe thead tr:only-child th {\n",
       "        text-align: right;\n",
       "    }\n",
       "\n",
       "    .dataframe thead th {\n",
       "        text-align: left;\n",
       "    }\n",
       "\n",
       "    .dataframe tbody tr th {\n",
       "        vertical-align: top;\n",
       "    }\n",
       "</style>\n",
       "<table border=\"1\" class=\"dataframe\">\n",
       "  <thead>\n",
       "    <tr style=\"text-align: right;\">\n",
       "      <th></th>\n",
       "      <th>loc_id</th>\n",
       "      <th>phone_id</th>\n",
       "      <th>datetime</th>\n",
       "      <th>hour</th>\n",
       "      <th>weekday</th>\n",
       "    </tr>\n",
       "  </thead>\n",
       "  <tbody>\n",
       "    <tr>\n",
       "      <th>6308</th>\n",
       "      <td>3</td>\n",
       "      <td>32</td>\n",
       "      <td>2017-10-09 01:00:00</td>\n",
       "      <td>1</td>\n",
       "      <td>0</td>\n",
       "    </tr>\n",
       "    <tr>\n",
       "      <th>6309</th>\n",
       "      <td>4</td>\n",
       "      <td>46</td>\n",
       "      <td>2017-10-09 01:00:00</td>\n",
       "      <td>1</td>\n",
       "      <td>0</td>\n",
       "    </tr>\n",
       "    <tr>\n",
       "      <th>6310</th>\n",
       "      <td>8</td>\n",
       "      <td>12</td>\n",
       "      <td>2017-10-09 01:00:00</td>\n",
       "      <td>1</td>\n",
       "      <td>0</td>\n",
       "    </tr>\n",
       "    <tr>\n",
       "      <th>6311</th>\n",
       "      <td>10</td>\n",
       "      <td>5</td>\n",
       "      <td>2017-10-09 01:00:00</td>\n",
       "      <td>1</td>\n",
       "      <td>0</td>\n",
       "    </tr>\n",
       "    <tr>\n",
       "      <th>6312</th>\n",
       "      <td>12</td>\n",
       "      <td>21</td>\n",
       "      <td>2017-10-09 01:00:00</td>\n",
       "      <td>1</td>\n",
       "      <td>0</td>\n",
       "    </tr>\n",
       "  </tbody>\n",
       "</table>\n",
       "</div>"
      ],
      "text/plain": [
       "      loc_id  phone_id            datetime  hour  weekday\n",
       "6308       3        32 2017-10-09 01:00:00     1        0\n",
       "6309       4        46 2017-10-09 01:00:00     1        0\n",
       "6310       8        12 2017-10-09 01:00:00     1        0\n",
       "6311      10         5 2017-10-09 01:00:00     1        0\n",
       "6312      12        21 2017-10-09 01:00:00     1        0"
      ]
     },
     "execution_count": 239,
     "metadata": {},
     "output_type": "execute_result"
    }
   ],
   "source": [
    "df.head()"
   ]
  },
  {
   "cell_type": "code",
   "execution_count": 240,
   "metadata": {
    "collapsed": true
   },
   "outputs": [],
   "source": [
    "loc_df = []\n",
    "for i in range(1, 34):\n",
    "    _df = df[df.loc_id==i]\n",
    "    _df.reset_index(inplace=True, drop=True)\n",
    "    loc_df.append(_df)\n",
    "pre_df = []"
   ]
  },
  {
   "cell_type": "code",
   "execution_count": 241,
   "metadata": {},
   "outputs": [],
   "source": [
    "def handle_each_loc(n, pre_df):\n",
    "    loc1 = loc_df[n-1]\n",
    "    stamp = datetime.datetime(2017, 11, 1, 0, 0, 0)\n",
    "    while stamp < datetime.datetime(2017, 12, 1, 0, 0, 0):\n",
    "\n",
    "        wekdy = stamp.weekday()\n",
    "        tmp = loc1[loc1.weekday==wekdy]\n",
    "        tmp = tmp[tmp.hour==stamp.hour]\n",
    "        try:\n",
    "            phn_id = round(tmp.phone_id[-2:].mean())\n",
    "        except Exception as e:\n",
    "            print(e)\n",
    "            print(n, stamp.weekday(), stamp.hour, phn_id)\n",
    "            print(stamp)\n",
    "            stamp = stamp + datetime.timedelta(hours=1)\n",
    "            continue\n",
    "        #print(stamp.weekday(), stamp.hour, phn_id)\n",
    "\n",
    "        append_df = pd.DataFrame()\n",
    "        append_df['loc_id'] = [n]\n",
    "        append_df['phone_id'] = [phn_id]\n",
    "        append_df['datetime'] = [stamp]\n",
    "        append_df['hour'] = [stamp.hour]\n",
    "        append_df['weekday'] = [stamp.weekday()]\n",
    "\n",
    "        loc1 = loc1.append(append_df)\n",
    "\n",
    "        stamp = stamp + datetime.timedelta(hours=1)\n",
    "    _ = loc1[loc1.datetime >= '2017-01-01 00:00:00']\n",
    "    pre_df.append(_)\n",
    "    return pre_df"
   ]
  },
  {
   "cell_type": "code",
   "execution_count": 242,
   "metadata": {
    "scrolled": true
   },
   "outputs": [
    {
     "name": "stdout",
     "output_type": "stream",
     "text": [
      "cannot convert float NaN to integer\n",
      "24 4 3 1\n",
      "2017-11-03 03:00:00\n",
      "cannot convert float NaN to integer\n",
      "24 4 3 1\n",
      "2017-11-10 03:00:00\n",
      "cannot convert float NaN to integer\n",
      "24 4 3 1\n",
      "2017-11-17 03:00:00\n",
      "cannot convert float NaN to integer\n",
      "24 4 3 1\n",
      "2017-11-24 03:00:00\n"
     ]
    }
   ],
   "source": [
    "for n in range(1, 34):\n",
    "    pre_df = handle_each_loc(n, pre_df)"
   ]
  },
  {
   "cell_type": "code",
   "execution_count": 243,
   "metadata": {},
   "outputs": [],
   "source": [
    "res = pd.DataFrame()\n",
    "for each in pre_df:\n",
    "    each['time_stamp'] = each['datetime'].apply(lambda x: x.strftime(\"%Y-%m-%d %H\"))\n",
    "    each['num_of_people'] = each['phone_id']\n",
    "    res = res.append(each[['loc_id','time_stamp','num_of_people']])\n",
    "res = res[res.time_stamp>='2017-11-01 00']"
   ]
  },
  {
   "cell_type": "code",
   "execution_count": 244,
   "metadata": {},
   "outputs": [],
   "source": [
    "res = res.sort_values(by=['time_stamp','loc_id'])"
   ]
  },
  {
   "cell_type": "code",
   "execution_count": 245,
   "metadata": {
    "collapsed": true
   },
   "outputs": [],
   "source": [
    "res.to_csv('res.csv')"
   ]
  },
  {
   "cell_type": "code",
   "execution_count": 246,
   "metadata": {},
   "outputs": [
    {
     "data": {
      "text/plain": [
       "23756"
      ]
     },
     "execution_count": 246,
     "metadata": {},
     "output_type": "execute_result"
    }
   ],
   "source": [
    "len(res)"
   ]
  },
  {
   "cell_type": "code",
   "execution_count": 247,
   "metadata": {},
   "outputs": [
    {
     "ename": "ValueError",
     "evalue": "Must pass DataFrame with boolean values only",
     "output_type": "error",
     "traceback": [
      "\u001b[1;31m---------------------------------------------------------------------------\u001b[0m",
      "\u001b[1;31mValueError\u001b[0m                                Traceback (most recent call last)",
      "\u001b[1;32m<ipython-input-247-194d7f026e20>\u001b[0m in \u001b[0;36m<module>\u001b[1;34m()\u001b[0m\n\u001b[1;32m----> 1\u001b[1;33m \u001b[0mdf\u001b[0m\u001b[1;33m[\u001b[0m\u001b[0mdf\u001b[0m\u001b[1;33m]\u001b[0m\u001b[1;33m\u001b[0m\u001b[0m\n\u001b[0m",
      "\u001b[1;32mC:\\Users\\86535\\Anaconda3\\lib\\site-packages\\pandas\\core\\frame.py\u001b[0m in \u001b[0;36m__getitem__\u001b[1;34m(self, key)\u001b[0m\n\u001b[0;32m   1958\u001b[0m             \u001b[1;32mreturn\u001b[0m \u001b[0mself\u001b[0m\u001b[1;33m.\u001b[0m\u001b[0m_getitem_array\u001b[0m\u001b[1;33m(\u001b[0m\u001b[0mkey\u001b[0m\u001b[1;33m)\u001b[0m\u001b[1;33m\u001b[0m\u001b[0m\n\u001b[0;32m   1959\u001b[0m         \u001b[1;32melif\u001b[0m \u001b[0misinstance\u001b[0m\u001b[1;33m(\u001b[0m\u001b[0mkey\u001b[0m\u001b[1;33m,\u001b[0m \u001b[0mDataFrame\u001b[0m\u001b[1;33m)\u001b[0m\u001b[1;33m:\u001b[0m\u001b[1;33m\u001b[0m\u001b[0m\n\u001b[1;32m-> 1960\u001b[1;33m             \u001b[1;32mreturn\u001b[0m \u001b[0mself\u001b[0m\u001b[1;33m.\u001b[0m\u001b[0m_getitem_frame\u001b[0m\u001b[1;33m(\u001b[0m\u001b[0mkey\u001b[0m\u001b[1;33m)\u001b[0m\u001b[1;33m\u001b[0m\u001b[0m\n\u001b[0m\u001b[0;32m   1961\u001b[0m         \u001b[1;32melif\u001b[0m \u001b[0mis_mi_columns\u001b[0m\u001b[1;33m:\u001b[0m\u001b[1;33m\u001b[0m\u001b[0m\n\u001b[0;32m   1962\u001b[0m             \u001b[1;32mreturn\u001b[0m \u001b[0mself\u001b[0m\u001b[1;33m.\u001b[0m\u001b[0m_getitem_multilevel\u001b[0m\u001b[1;33m(\u001b[0m\u001b[0mkey\u001b[0m\u001b[1;33m)\u001b[0m\u001b[1;33m\u001b[0m\u001b[0m\n",
      "\u001b[1;32mC:\\Users\\86535\\Anaconda3\\lib\\site-packages\\pandas\\core\\frame.py\u001b[0m in \u001b[0;36m_getitem_frame\u001b[1;34m(self, key)\u001b[0m\n\u001b[0;32m   2033\u001b[0m     \u001b[1;32mdef\u001b[0m \u001b[0m_getitem_frame\u001b[0m\u001b[1;33m(\u001b[0m\u001b[0mself\u001b[0m\u001b[1;33m,\u001b[0m \u001b[0mkey\u001b[0m\u001b[1;33m)\u001b[0m\u001b[1;33m:\u001b[0m\u001b[1;33m\u001b[0m\u001b[0m\n\u001b[0;32m   2034\u001b[0m         \u001b[1;32mif\u001b[0m \u001b[0mkey\u001b[0m\u001b[1;33m.\u001b[0m\u001b[0mvalues\u001b[0m\u001b[1;33m.\u001b[0m\u001b[0msize\u001b[0m \u001b[1;32mand\u001b[0m \u001b[1;32mnot\u001b[0m \u001b[0mis_bool_dtype\u001b[0m\u001b[1;33m(\u001b[0m\u001b[0mkey\u001b[0m\u001b[1;33m.\u001b[0m\u001b[0mvalues\u001b[0m\u001b[1;33m)\u001b[0m\u001b[1;33m:\u001b[0m\u001b[1;33m\u001b[0m\u001b[0m\n\u001b[1;32m-> 2035\u001b[1;33m             \u001b[1;32mraise\u001b[0m \u001b[0mValueError\u001b[0m\u001b[1;33m(\u001b[0m\u001b[1;34m'Must pass DataFrame with boolean values only'\u001b[0m\u001b[1;33m)\u001b[0m\u001b[1;33m\u001b[0m\u001b[0m\n\u001b[0m\u001b[0;32m   2036\u001b[0m         \u001b[1;32mreturn\u001b[0m \u001b[0mself\u001b[0m\u001b[1;33m.\u001b[0m\u001b[0mwhere\u001b[0m\u001b[1;33m(\u001b[0m\u001b[0mkey\u001b[0m\u001b[1;33m)\u001b[0m\u001b[1;33m\u001b[0m\u001b[0m\n\u001b[0;32m   2037\u001b[0m \u001b[1;33m\u001b[0m\u001b[0m\n",
      "\u001b[1;31mValueError\u001b[0m: Must pass DataFrame with boolean values only"
     ]
    }
   ],
   "source": [
    "df[df]"
   ]
  }
 ],
 "metadata": {
  "kernelspec": {
   "display_name": "Python 3",
   "language": "python",
   "name": "python3"
  },
  "language_info": {
   "codemirror_mode": {
    "name": "ipython",
    "version": 3
   },
   "file_extension": ".py",
   "mimetype": "text/x-python",
   "name": "python",
   "nbconvert_exporter": "python",
   "pygments_lexer": "ipython3",
   "version": "3.6.1"
  }
 },
 "nbformat": 4,
 "nbformat_minor": 2
}
