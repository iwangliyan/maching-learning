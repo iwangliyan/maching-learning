{
 "cells": [
  {
   "cell_type": "code",
   "execution_count": 3,
   "metadata": {
    "collapsed": true
   },
   "outputs": [],
   "source": [
    "import pandas as pd"
   ]
  },
  {
   "cell_type": "code",
   "execution_count": 18,
   "metadata": {
    "collapsed": true
   },
   "outputs": [],
   "source": [
    "tmp = \\\n",
    "[\n",
    "{'day':'2017-03-01','maxTem':'9','minTem':'-4','wea':'晴','pm':'1'},\n",
    "{'day':'2017-03-02','maxTem':'13','minTem':'-1','wea':'晴','pm':'2'},\n",
    "{'day':'2017-03-03','maxTem':'14','minTem':'-4','wea':'晴','pm':'3'},\n",
    "{'day':'2017-03-04','maxTem':'13','minTem':'0','wea':'多云','pm':'3'},\n",
    "{'day':'2017-03-05','maxTem':'12','minTem':'-3','wea':'晴','pm':'1'},\n",
    "{'day':'2017-03-06','maxTem':'10','minTem':'-4','wea':'多云~晴','pm':'1'},\n",
    "{'day':'2017-03-07','maxTem':'10','minTem':'-1','wea':'晴','pm':'1'},\n",
    "{'day':'2017-03-08','maxTem':'14','minTem':'2','wea':'晴','pm':'1'},\n",
    "{'day':'2017-03-09','maxTem':'16','minTem':'1','wea':'晴','pm':'1'},\n",
    "{'day':'2017-03-10','maxTem':'17','minTem':'4','wea':'多云~阴','pm':'2'},\n",
    "{'day':'2017-03-11','maxTem':'21','minTem':'4','wea':'阴~晴','pm':'2'},\n",
    "{'day':'2017-03-12','maxTem':'14','minTem':'1','wea':'晴','pm':'1'},\n",
    "{'day':'2017-03-13','maxTem':'15','minTem':'1','wea':'晴','pm':'1'},\n",
    "{'day':'2017-03-14','maxTem':'16','minTem':'2','wea':'晴~多云','pm':'1'},\n",
    "{'day':'2017-03-15','maxTem':'17','minTem':'2','wea':'多云~晴','pm':'2'},\n",
    "{'day':'2017-03-16','maxTem':'17','minTem':'6','wea':'多云','pm':'4'},\n",
    "{'day':'2017-03-17','maxTem':'18','minTem':'5','wea':'阴~多云','pm':'4'},\n",
    "{'day':'2017-03-18','maxTem':'21','minTem':'4','wea':'晴','pm':'4'},\n",
    "{'day':'2017-03-19','maxTem':'19','minTem':'6','wea':'多云~阴','pm':'5'},\n",
    "{'day':'2017-03-20','maxTem':'12','minTem':'6','wea':'小雨~阴','pm':'4'},\n",
    "{'day':'2017-03-21','maxTem':'15','minTem':'4','wea':'多云','pm':'3'},\n",
    "{'day':'2017-03-22','maxTem':'15','minTem':'6','wea':'阴~小到中雨','pm':'4'},\n",
    "{'day':'2017-03-23','maxTem':'7','minTem':'2','wea':'小雨~小到中雨','pm':'4'},\n",
    "{'day':'2017-03-24','maxTem':'7','minTem':'0','wea':'雨夹雪~阴','pm':'2'},\n",
    "{'day':'2017-03-25','maxTem':'14','minTem':'4','wea':'多云','pm':'2'},\n",
    "{'day':'2017-03-26','maxTem':'16','minTem':'3','wea':'多云~晴','pm':'1'},\n",
    "{'day':'2017-03-27','maxTem':'15','minTem':'5','wea':'晴~多云','pm':'1'},\n",
    "{'day':'2017-03-28','maxTem':'16','minTem':'3','wea':'多云~晴','pm':'2'},\n",
    "{'day':'2017-03-29','maxTem':'20','minTem':'7','wea':'晴~多云','pm':'4'},\n",
    "{'day':'2017-03-30','maxTem':'15','minTem':'4','wea':'多云','pm':'3'},\n",
    "{'day':'2017-03-31','maxTem':'17','minTem':'5','wea':'晴','pm':'1'},\n",
    "{'day':'2017-04-01','maxTem':'22','minTem':'5','wea':'多云','pm':'2'},\n",
    "{'day':'2017-04-02','maxTem':'24','minTem':'8','wea':'阴~多云','pm':'2'},\n",
    "{'day':'2017-04-03','maxTem':'26','minTem':'10','wea':'多云~阴','pm':'4'},\n",
    "{'day':'2017-04-04','maxTem':'20','minTem':'11','wea':'阴~小雨','pm':'4'},\n",
    "{'day':'2017-04-05','maxTem':'19','minTem':'9','wea':'阴~多云','pm':'2'},\n",
    "{'day':'2017-04-06','maxTem':'25','minTem':'9','wea':'多云~阴','pm':'3'},\n",
    "{'day':'2017-04-07','maxTem':'20','minTem':'13','wea':'阴','pm':'3'},\n",
    "{'day':'2017-04-08','maxTem':'19','minTem':'7','wea':'阴~晴','pm':'3'},\n",
    "{'day':'2017-04-09','maxTem':'20','minTem':'8','wea':'多云','pm':'2'},\n",
    "{'day':'2017-04-10','maxTem':'20','minTem':'11','wea':'多云','pm':'2'},\n",
    "{'day':'2017-04-11','maxTem':'22','minTem':'7','wea':'晴','pm':'2'},\n",
    "{'day':'2017-04-12','maxTem':'26','minTem':'8','wea':'晴~多云','pm':'2'},\n",
    "{'day':'2017-04-13','maxTem':'21','minTem':'7','wea':'阴','pm':'2'},\n",
    "{'day':'2017-04-14','maxTem':'27','minTem':'10','wea':'多云','pm':'2'},\n",
    "{'day':'2017-04-15','maxTem':'30','minTem':'13','wea':'晴~多云','pm':'2'},\n",
    "{'day':'2017-04-16','maxTem':'27','minTem':'13','wea':'阴','pm':'3'},\n",
    "{'day':'2017-04-17','maxTem':'28','minTem':'11','wea':'多云','pm':'4'},\n",
    "{'day':'2017-04-18','maxTem':'24','minTem':'10','wea':'晴~阴','pm':'2'},\n",
    "{'day':'2017-04-19','maxTem':'20','minTem':'10','wea':'阴~多云','pm':'2'},\n",
    "{'day':'2017-04-20','maxTem':'23','minTem':'10','wea':'多云','pm':'2'},\n",
    "{'day':'2017-04-21','maxTem':'22','minTem':'8','wea':'多云~晴','pm':'1'},\n",
    "{'day':'2017-04-22','maxTem':'27','minTem':'12','wea':'多云','pm':'2'},\n",
    "{'day':'2017-04-23','maxTem':'25','minTem':'10','wea':'多云','pm':'2'},\n",
    "{'day':'2017-04-24','maxTem':'24','minTem':'11','wea':'多云','pm':'2'},\n",
    "{'day':'2017-04-25','maxTem':'20','minTem':'6','wea':'多云~晴','pm':'1'},\n",
    "{'day':'2017-04-26','maxTem':'25','minTem':'10','wea':'晴','pm':'1'},\n",
    "{'day':'2017-04-27','maxTem':'28','minTem':'13','wea':'晴','pm':'1'},\n",
    "{'day':'2017-04-28','maxTem':'31','minTem':'13','wea':'晴','pm':'2'},\n",
    "{'day':'2017-04-29','maxTem':'34','minTem':'17','wea':'多云','pm':'2'},\n",
    "{'day':'2017-04-30','maxTem':'29','minTem':'12','wea':'晴~多云','pm':'3'},\n",
    "{'day':'2017-05-01','maxTem':'27','minTem':'13','wea':'多云','pm':'2'},\n",
    "{'day':'2017-05-02','maxTem':'29','minTem':'16','wea':'多云','pm':'2'},\n",
    "{'day':'2017-05-03','maxTem':'28','minTem':'15','wea':'阴','pm':'3'},\n",
    "{'day':'2017-05-04','maxTem':'28','minTem':'13','wea':'多云~晴','pm':'6'},\n",
    "{'day':'2017-05-05','maxTem':'21','minTem':'10','wea':'扬沙~晴','pm':'5'},\n",
    "{'day':'2017-05-06','maxTem':'29','minTem':'10','wea':'晴','pm':'2'},\n",
    "{'day':'2017-05-07','maxTem':'30','minTem':'14','wea':'晴~多云','pm':'2'},\n",
    "{'day':'2017-05-08','maxTem':'31','minTem':'15','wea':'多云','pm':'2'},\n",
    "{'day':'2017-05-09','maxTem':'29','minTem':'14','wea':'晴~阵雨','pm':'2'},\n",
    "{'day':'2017-05-10','maxTem':'30','minTem':'13','wea':'晴','pm':'2'},\n",
    "{'day':'2017-05-11','maxTem':'31','minTem':'12','wea':'晴~多云','pm':'2'},\n",
    "{'day':'2017-05-12','maxTem':'30','minTem':'13','wea':'晴~多云','pm':'3'},\n",
    "{'day':'2017-05-13','maxTem':'29','minTem':'15','wea':'多云','pm':'2'},\n",
    "{'day':'2017-05-14','maxTem':'28','minTem':'13','wea':'多云','pm':'1'},\n",
    "{'day':'2017-05-15','maxTem':'28','minTem':'14','wea':'多云','pm':'1'},\n",
    "{'day':'2017-05-16','maxTem':'32','minTem':'16','wea':'多云~晴','pm':'2'},\n",
    "{'day':'2017-05-17','maxTem':'34','minTem':'18','wea':'晴','pm':'3'},\n",
    "{'day':'2017-05-18','maxTem':'36','minTem':'20','wea':'晴','pm':'3'},\n",
    "{'day':'2017-05-19','maxTem':'36','minTem':'21','wea':'晴','pm':'3'},\n",
    "{'day':'2017-05-20','maxTem':'34','minTem':'19','wea':'晴~多云','pm':'2'},\n",
    "{'day':'2017-05-21','maxTem':'32','minTem':'16','wea':'阴~阵雨','pm':'2'},\n",
    "{'day':'2017-05-22','maxTem':'18','minTem':'12','wea':'小到中雨~阴','pm':'2'},\n",
    "{'day':'2017-05-23','maxTem':'28','minTem':'13','wea':'晴','pm':'1'},\n",
    "{'day':'2017-05-24','maxTem':'33','minTem':'16','wea':'多云~晴','pm':'2'},\n",
    "{'day':'2017-05-25','maxTem':'31','minTem':'14','wea':'晴','pm':'2'},\n",
    "{'day':'2017-05-26','maxTem':'31','minTem':'16','wea':'晴','pm':'2'},\n",
    "{'day':'2017-05-27','maxTem':'35','minTem':'20','wea':'晴','pm':'2'},\n",
    "{'day':'2017-05-28','maxTem':'37','minTem':'21','wea':'多云~阴','pm':'3'},\n",
    "{'day':'2017-05-29','maxTem':'27','minTem':'17','wea':'阴~阵雨','pm':'2'},\n",
    "{'day':'2017-05-30','maxTem':'26','minTem':'15','wea':'阵雨~晴','pm':'2'},\n",
    "{'day':'2017-05-31','maxTem':'34','minTem':'17','wea':'阴~多云','pm':'2'},\n",
    "{'day':'2017-06-01','maxTem':'30','minTem':'16','wea':'晴~阴','pm':'2'},\n",
    "{'day':'2017-06-02','maxTem':'25','minTem':'12','wea':'阵雨~多云','pm':'2'},\n",
    "{'day':'2017-06-03','maxTem':'28','minTem':'15','wea':'晴','pm':'2'},\n",
    "{'day':'2017-06-04','maxTem':'32','minTem':'18','wea':'多云','pm':'2'},\n",
    "{'day':'2017-06-05','maxTem':'29','minTem':'14','wea':'阴~小雨','pm':'3'},\n",
    "{'day':'2017-06-06','maxTem':'20','minTem':'13','wea':'小雨~晴','pm':'2'},\n",
    "{'day':'2017-06-07','maxTem':'32','minTem':'18','wea':'晴~多云','pm':'2'},\n",
    "{'day':'2017-06-08','maxTem':'35','minTem':'20','wea':'多云~晴','pm':'2'},\n",
    "{'day':'2017-06-09','maxTem':'37','minTem':'20','wea':'晴~多云','pm':'2'},\n",
    "{'day':'2017-06-10','maxTem':'31','minTem':'16','wea':'阴~多云','pm':'2'},\n",
    "{'day':'2017-06-11','maxTem':'32','minTem':'17','wea':'阴~多云','pm':'2'},\n",
    "{'day':'2017-06-12','maxTem':'27','minTem':'18','wea':'阴','pm':'2'},\n",
    "{'day':'2017-06-13','maxTem':'29','minTem':'16','wea':'多云~晴','pm':'2'},\n",
    "{'day':'2017-06-14','maxTem':'36','minTem':'20','wea':'晴','pm':'2'},\n",
    "{'day':'2017-06-15','maxTem':'38','minTem':'23','wea':'晴','pm':'2'},\n",
    "{'day':'2017-06-16','maxTem':'37','minTem':'23','wea':'多云~阴','pm':'3'},\n",
    "{'day':'2017-06-17','maxTem':'35','minTem':'24','wea':'阵雨~多云','pm':'3'},\n",
    "{'day':'2017-06-18','maxTem':'35','minTem':'23','wea':'阴~雷阵雨','pm':'3'},\n",
    "{'day':'2017-06-19','maxTem':'31','minTem':'20','wea':'雷阵雨~阴','pm':'2'},\n",
    "{'day':'2017-06-20','maxTem':'34','minTem':'20','wea':'多云~阴','pm':'2'},\n",
    "{'day':'2017-06-21','maxTem':'33','minTem':'21','wea':'阵雨~小到中雨','pm':'2'},\n",
    "{'day':'2017-06-22','maxTem':'23','minTem':'19','wea':'大雨','pm':'1'},\n",
    "{'day':'2017-06-23','maxTem':'24','minTem':'18','wea':'雷阵雨','pm':'1'},\n",
    "{'day':'2017-06-24','maxTem':'25','minTem':'17','wea':'阵雨~阴','pm':'1'},\n",
    "{'day':'2017-06-25','maxTem':'30','minTem':'19','wea':'多云','pm':'2'},\n",
    "{'day':'2017-06-26','maxTem':'34','minTem':'20','wea':'多云~晴','pm':'2'},\n",
    "{'day':'2017-06-27','maxTem':'35','minTem':'21','wea':'多云~晴','pm':'3'},\n",
    "{'day':'2017-06-28','maxTem':'35','minTem':'22','wea':'多云','pm':'3'},\n",
    "{'day':'2017-06-29','maxTem':'35','minTem':'23','wea':'雷阵雨~多云','pm':'2'},\n",
    "{'day':'2017-06-30','maxTem':'35','minTem':'24','wea':'多云','pm':'3'},\n",
    "{'day':'2017-09-01','maxTem':'28','minTem':'18','wea':'多云~阴','pm':'4'},\n",
    "{'day':'2017-09-02','maxTem':'27','minTem':'18','wea':'小雨~阴','pm':'3'},\n",
    "{'day':'2017-09-03','maxTem':'29','minTem':'18','wea':'多云','pm':'2'},\n",
    "{'day':'2017-09-04','maxTem':'29','minTem':'19','wea':'阴~阵雨','pm':'3'},\n",
    "{'day':'2017-09-05','maxTem':'31','minTem':'18','wea':'阴~多云','pm':'2'},\n",
    "{'day':'2017-09-06','maxTem':'31','minTem':'17','wea':'晴','pm':'2'},\n",
    "{'day':'2017-09-07','maxTem':'31','minTem':'18','wea':'晴','pm':'2'},\n",
    "{'day':'2017-09-08','maxTem':'30','minTem':'19','wea':'多云','pm':'3'},\n",
    "{'day':'2017-09-09','maxTem':'31','minTem':'20','wea':'阴','pm':'3'},\n",
    "{'day':'2017-09-10','maxTem':'28','minTem':'18','wea':'阵雨~晴','pm':'3'},\n",
    "{'day':'2017-09-11','maxTem':'30','minTem':'15','wea':'晴','pm':'2'},\n",
    "{'day':'2017-09-12','maxTem':'30','minTem':'18','wea':'晴~多云','pm':'2'},\n",
    "{'day':'2017-09-13','maxTem':'29','minTem':'19','wea':'多云','pm':'2'},\n",
    "{'day':'2017-09-14','maxTem':'29','minTem':'19','wea':'阴','pm':'3'},\n",
    "{'day':'2017-09-15','maxTem':'29','minTem':'17','wea':'阴','pm':'2'},\n",
    "{'day':'2017-09-16','maxTem':'28','minTem':'17','wea':'阵雨~多云','pm':'3'},\n",
    "{'day':'2017-09-17','maxTem':'29','minTem':'15','wea':'晴','pm':'1'},\n",
    "{'day':'2017-09-18','maxTem':'30','minTem':'17','wea':'晴','pm':'2'},\n",
    "{'day':'2017-09-19','maxTem':'30','minTem':'14','wea':'晴~多云','pm':'1'},\n",
    "{'day':'2017-09-20','maxTem':'28','minTem':'13','wea':'晴','pm':'1'},\n",
    "{'day':'2017-09-21','maxTem':'30','minTem':'16','wea':'阵雨~多云','pm':'2'},\n",
    "{'day':'2017-09-22','maxTem':'28','minTem':'14','wea':'晴~多云','pm':'2'},\n",
    "{'day':'2017-09-23','maxTem':'29','minTem':'16','wea':'多云~阴','pm':'3'},\n",
    "{'day':'2017-09-24','maxTem':'29','minTem':'17','wea':'多云~阵雨','pm':'3'},\n",
    "{'day':'2017-09-25','maxTem':'29','minTem':'17','wea':'阴','pm':'3'},\n",
    "{'day':'2017-09-26','maxTem':'24','minTem':'12','wea':'小雨~阴','pm':'2'},\n",
    "{'day':'2017-09-27','maxTem':'24','minTem':'9','wea':'多云~晴','pm':'2'},\n",
    "{'day':'2017-09-28','maxTem':'23','minTem':'10','wea':'晴~多云','pm':'1'},\n",
    "{'day':'2017-09-29','maxTem':'26','minTem':'10','wea':'晴','pm':'2'},\n",
    "{'day':'2017-09-30','maxTem':'28','minTem':'15','wea':'多云','pm':'3'},\n",
    "{'day':'2017-10-01','maxTem':'26','minTem':'12','wea':'多云~阴','pm':'3'},\n",
    "{'day':'2017-10-02','maxTem':'18','minTem':'8','wea':'小雨~阴','pm':'1'},\n",
    "{'day':'2017-10-03','maxTem':'20','minTem':'9','wea':'多云~晴','pm':'1'},\n",
    "{'day':'2017-10-04','maxTem':'22','minTem':'9','wea':'晴','pm':'2'},\n",
    "{'day':'2017-10-05','maxTem':'21','minTem':'10','wea':'多云','pm':'2'},\n",
    "{'day':'2017-10-06','maxTem':'22','minTem':'12','wea':'多云~阴','pm':'2'},\n",
    "{'day':'2017-10-07','maxTem':'20','minTem':'12','wea':'小雨~阴','pm':'3'},\n",
    "{'day':'2017-10-08','maxTem':'18','minTem':'12','wea':'阴~小雨','pm':'4'},\n",
    "{'day':'2017-10-09','maxTem':'15','minTem':'8','wea':'中雨~小雨','pm':'1'},\n",
    "{'day':'2017-10-10','maxTem':'11','minTem':'5','wea':'小雨~阴','pm':'1'},\n",
    "{'day':'2017-10-11','maxTem':'16','minTem':'5','wea':'晴~多云','pm':'1'},\n",
    "{'day':'2017-10-12','maxTem':'13','minTem':'5','wea':'小雨~多云','pm':'1'},\n",
    "{'day':'2017-10-13','maxTem':'18','minTem':'8','wea':'晴~多云','pm':'2'},\n",
    "{'day':'2017-10-14','maxTem':'13','minTem':'8','wea':'小雨','pm':'1'},\n",
    "{'day':'2017-10-15','maxTem':'16','minTem':'7','wea':'阴~多云','pm':'2'},\n",
    "{'day':'2017-10-16','maxTem':'18','minTem':'6','wea':'晴~多云','pm':'2'},\n",
    "{'day':'2017-10-17','maxTem':'16','minTem':'10','wea':'阴~小雨','pm':'2'},\n",
    "{'day':'2017-10-18','maxTem':'15','minTem':'8','wea':'小雨~多云','pm':'2'},\n",
    "{'day':'2017-10-19','maxTem':'19','minTem':'8','wea':'晴~多云','pm':'2'},\n",
    "{'day':'2017-10-20','maxTem':'21','minTem':'11','wea':'晴~多云','pm':'3'},\n",
    "{'day':'2017-10-21','maxTem':'18','minTem':'9','wea':'阴~小雨','pm':'3'},\n",
    "{'day':'2017-10-22','maxTem':'13','minTem':'7','wea':'阴~多云','pm':'1'},\n",
    "{'day':'2017-10-23','maxTem':'16','minTem':'5','wea':'多云~晴','pm':'2'},\n",
    "{'day':'2017-10-24','maxTem':'19','minTem':'8','wea':'晴~多云','pm':'2'},\n",
    "{'day':'2017-10-25','maxTem':'15','minTem':'9','wea':'阴~小雨','pm':'3'},\n",
    "{'day':'2017-10-26','maxTem':'17','minTem':'8','wea':'阴~多云','pm':'4'},\n",
    "{'day':'2017-10-27','maxTem':'18','minTem':'8','wea':'多云~雾','pm':'5'},\n",
    "{'day':'2017-10-28','maxTem':'16','minTem':'4','wea':'多云~晴','pm':'2'},\n",
    "{'day':'2017-10-29','maxTem':'13','minTem':'1','wea':'晴','pm':'1'},\n",
    "{'day':'2017-10-30','maxTem':'15','minTem':'2','wea':'晴','pm':'1'},\n",
    "{'day':'2017-10-31','maxTem':'17','minTem':'3','wea':'晴','pm':'2'},\n",
    "{'day':'2017-11-01','maxTem':'17','minTem':'4','wea':'晴~阴','pm':'2'},\n",
    "{'day':'2017-11-02','maxTem':'17','minTem':'2','wea':'阴~晴','pm':'2'},\n",
    "{'day':'2017-11-03','maxTem':'13','minTem':'-2','wea':'晴','pm':'1'},\n",
    "{'day':'2017-11-04','maxTem':'15','minTem':'2','wea':'晴','pm':'2'},\n",
    "{'day':'2017-11-05','maxTem':'15','minTem':'3','wea':'晴~多云','pm':'3'},\n",
    "{'day':'2017-11-06','maxTem':'15','minTem':'4','wea':'多云','pm':'4'},\n",
    "{'day':'2017-11-07','maxTem':'18','minTem':'4','wea':'晴','pm':'3'},\n",
    "{'day':'2017-11-08','maxTem':'14','minTem':'3','wea':'多云~阴','pm':'1'},\n",
    "{'day':'2017-11-09','maxTem':'13','minTem':'4','wea':'阴~多云','pm':'2'},\n",
    "{'day':'2017-11-10','maxTem':'12','minTem':'-1','wea':'晴','pm':'1'},\n",
    "{'day':'2017-11-11','maxTem':'11','minTem':'-1','wea':'晴~多云','pm':'1'},\n",
    "{'day':'2017-11-12','maxTem':'12','minTem':'-1','wea':'多云~晴','pm':'2'},\n",
    "{'day':'2017-11-13','maxTem':'13','minTem':'-1','wea':'晴','pm':'2'},\n",
    "{'day':'2017-11-14','maxTem':'8','minTem':'-5','wea':'晴','pm':'1'},\n",
    "{'day':'2017-11-15','maxTem':'7','minTem':'-4','wea':'晴','pm':'1'},\n",
    "{'day':'2017-11-16','maxTem':'8','minTem':'-2','wea':'晴~阴','pm':'2'},\n",
    "{'day':'2017-11-17','maxTem':'6','minTem':'-4','wea':'多云~晴','pm':'2'},\n",
    "{'day':'2017-11-18','maxTem':'5','minTem':'-7','wea':'晴','pm':'2'},\n",
    "{'day':'2017-11-19','maxTem':'7','minTem':'-5','wea':'多云','pm':'3'},\n",
    "{'day':'2017-11-20','maxTem':'9','minTem':'-4','wea':'晴~多云','pm':'3'},\n",
    "{'day':'2017-11-21','maxTem':'8','minTem':'-2','wea':'多云~晴','pm':'4'},\n",
    "{'day':'2017-11-22','maxTem':'8','minTem':'-6','wea':'多云~晴','pm':'1'},\n",
    "{'day':'2017-11-23','maxTem':'7','minTem':'-5','wea':'多云','pm':'1'},\n",
    "{'day':'2017-11-24','maxTem':'7','minTem':'-6','wea':'多云','pm':'1'},\n",
    "{'day':'2017-11-25','maxTem':'7','minTem':'-4','wea':'阴~多云','pm':'2'},\n",
    "{'day':'2017-11-26','maxTem':'4','minTem':'-5','wea':'晴','pm':'1'},\n",
    "{'day':'2017-11-27','maxTem':'7','minTem':'-4','wea':'多云','pm':'2'},\n",
    "{'day':'2017-11-28','maxTem':'7','minTem':'-6','wea':'晴~多云','pm':'2'},\n",
    "{'day':'2017-11-29','maxTem':'0','minTem':'-7','wea':'多云','pm':'1'},\n",
    "{'day':'2017-11-30','maxTem':'4','minTem':'-6','wea':'晴','pm':'1'},\n",
    "{'day':'2017-12-01','maxTem':'5','minTem':'-5','wea':'晴','pm':'2'},\n",
    "{'day':'2017-12-02','maxTem':'7','minTem':'-4','wea':'晴~多云','pm':'4'},\n",
    "{'day':'2017-12-03','maxTem':'5','minTem':'-5','wea':'多云~晴','pm':'2'},\n",
    "{'day':'2017-12-04','maxTem':'4','minTem':'-6','wea':'多云','pm':'1'},\n",
    "{'day':'2017-12-05','maxTem':'7','minTem':'-3','wea':'晴','pm':'1'},\n",
    "{'day':'2017-12-06','maxTem':'8','minTem':'-4','wea':'多云','pm':'1'},\n",
    "{'day':'2017-12-07','maxTem':'5','minTem':'-5','wea':'多云~晴','pm':'1'},\n",
    "{'day':'2017-12-08','maxTem':'7','minTem':'-4','wea':'晴','pm':'1'},\n",
    "{'day':'2017-12-09','maxTem':'6','minTem':'-4','wea':'多云~晴','pm':'2'},\n",
    "{'day':'2017-12-10','maxTem':'3','minTem':'-7','wea':'晴~多云','pm':'1'},\n",
    "{'day':'2017-12-11','maxTem':'0','minTem':'-9','wea':'多云~晴','pm':'1'},\n",
    "{'day':'2017-12-12','maxTem':'-1','minTem':'-8','wea':'多云','pm':'1'},\n",
    "{'day':'2017-12-13','maxTem':'0','minTem':'-5','wea':'晴~多云','pm':'2'},\n",
    "{'day':'2017-12-14','maxTem':'0','minTem':'-4','wea':'阴~多云','pm':'2'},\n",
    "{'day':'2017-12-15','maxTem':'3','minTem':'-7','wea':'多云~晴','pm':'2'},\n",
    "{'day':'2017-12-16','maxTem':'-1','minTem':'-8','wea':'晴','pm':'1'},\n",
    "{'day':'2017-12-17','maxTem':'5','minTem':'-5','wea':'晴','pm':'1'},\n",
    "{'day':'2017-12-18','maxTem':'6','minTem':'-6','wea':'晴','pm':'1'},\n",
    "{'day':'2017-12-19','maxTem':'4','minTem':'-4','wea':'多云~阴','pm':'2'},\n",
    "{'day':'2017-12-20','maxTem':'6','minTem':'-6','wea':'多云~晴','pm':'1'},\n",
    "{'day':'2017-12-21','maxTem':'8','minTem':'-6','wea':'晴','pm':'2'},\n",
    "{'day':'2017-12-22','maxTem':'10','minTem':'-6','wea':'多云','pm':'2'},\n",
    "{'day':'2017-12-23','maxTem':'7','minTem':'-3','wea':'多云','pm':'1'},\n",
    "{'day':'2017-12-24','maxTem':'6','minTem':'-6','wea':'晴','pm':'1'},\n",
    "{'day':'2017-12-25','maxTem':'5','minTem':'-4','wea':'晴','pm':'1'},\n",
    "{'day':'2017-12-26','maxTem':'3','minTem':'-7','wea':'晴~多云','pm':'1'},\n",
    "{'day':'2017-12-27','maxTem':'4','minTem':'-5','wea':'多云~晴','pm':'3'},\n",
    "{'day':'2017-12-28','maxTem':'5','minTem':'-4','wea':'晴','pm':'3'},\n",
    "{'day':'2017-12-29','maxTem':'4','minTem':'-3','wea':'多云','pm':'5'},\n",
    "{'day':'2017-12-30','maxTem':'6','minTem':'-6','wea':'晴','pm':'4'},\n",
    "{'day':'2017-12-31','maxTem':'4','minTem':'-7','wea':'晴','pm':'2'},]"
   ]
  },
  {
   "cell_type": "code",
   "execution_count": 27,
   "metadata": {},
   "outputs": [
    {
     "name": "stdout",
     "output_type": "stream",
     "text": [
      "Wall time: 3 ms\n"
     ]
    }
   ],
   "source": [
    "%%time\n",
    "day = []\n",
    "maxTem = []\n",
    "minTem = []\n",
    "wea = []\n",
    "pm = []\n",
    "for i in tmp:\n",
    "    day.append(i['day'])\n",
    "    maxTem.append(int(i['maxTem']))\n",
    "    minTem.append(int(i['minTem']))\n",
    "    wea.append(i['wea'])\n",
    "    pm.append(int(i['pm']))\n",
    "df_tem = pd.DataFrame({'ymd':day, 'maxTem':maxTem, 'minTem':minTem, 'wea':wea, 'pm':pm})"
   ]
  },
  {
   "cell_type": "code",
   "execution_count": 20,
   "metadata": {},
   "outputs": [
    {
     "data": {
      "text/plain": [
       "244"
      ]
     },
     "execution_count": 20,
     "metadata": {},
     "output_type": "execute_result"
    }
   ],
   "source": [
    "len(df_tem)"
   ]
  },
  {
   "cell_type": "code",
   "execution_count": 21,
   "metadata": {},
   "outputs": [
    {
     "data": {
      "text/plain": [
       "130"
      ]
     },
     "execution_count": 21,
     "metadata": {},
     "output_type": "execute_result"
    }
   ],
   "source": [
    "sum(df_tem['wea'].apply(lambda x: 1 if '晴' in x else 0))"
   ]
  },
  {
   "cell_type": "code",
   "execution_count": 22,
   "metadata": {},
   "outputs": [
    {
     "data": {
      "text/plain": [
       "39"
      ]
     },
     "execution_count": 22,
     "metadata": {},
     "output_type": "execute_result"
    }
   ],
   "source": [
    "sum(df_tem['wea'].apply(lambda x: 1 if '雨' in x else 0))"
   ]
  },
  {
   "cell_type": "code",
   "execution_count": 28,
   "metadata": {
    "collapsed": true
   },
   "outputs": [],
   "source": [
    "df_tem['sun'] = df_tem['wea'].apply(lambda x: 1 if '晴' in x else 0)\n",
    "df_tem['rain'] = df_tem['wea'].apply(lambda x: 1 if '雨' in x else 0)"
   ]
  },
  {
   "cell_type": "code",
   "execution_count": null,
   "metadata": {
    "collapsed": true
   },
   "outputs": [],
   "source": [
    "df_tem[['ymd','maxTem','minTem','wea','pm','sun','rain']].to_csv('data/weather_uncode.csv', index=None)"
   ]
  },
  {
   "cell_type": "code",
   "execution_count": 24,
   "metadata": {
    "collapsed": true
   },
   "outputs": [],
   "source": [
    "df_tem['wea'] = df_tem['wea'].astype('category').cat.codes"
   ]
  },
  {
   "cell_type": "code",
   "execution_count": 30,
   "metadata": {
    "collapsed": true
   },
   "outputs": [],
   "source": [
    "df_tem[['ymd','maxTem','minTem','wea','pm','sun','rain']].to_csv('data/weather_3_12.csv', index=None)"
   ]
  }
 ],
 "metadata": {
  "kernelspec": {
   "display_name": "Python 3",
   "language": "python",
   "name": "python3"
  },
  "language_info": {
   "codemirror_mode": {
    "name": "ipython",
    "version": 3
   },
   "file_extension": ".py",
   "mimetype": "text/x-python",
   "name": "python",
   "nbconvert_exporter": "python",
   "pygments_lexer": "ipython3",
   "version": "3.6.3"
  }
 },
 "nbformat": 4,
 "nbformat_minor": 2
}
