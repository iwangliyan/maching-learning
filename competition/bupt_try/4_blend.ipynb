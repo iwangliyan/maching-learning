{
 "cells": [
  {
   "cell_type": "code",
   "execution_count": 1,
   "metadata": {
    "collapsed": true
   },
   "outputs": [],
   "source": [
    "import pandas as pd\n",
    "import numpy as np\n",
    "import matplotlib.pyplot as plt"
   ]
  },
  {
   "cell_type": "code",
   "execution_count": 6,
   "metadata": {
    "collapsed": true
   },
   "outputs": [],
   "source": [
    "test_rule = pd.read_csv('submit/submit_rule.csv')"
   ]
  },
  {
   "cell_type": "code",
   "execution_count": 7,
   "metadata": {
    "collapsed": true
   },
   "outputs": [],
   "source": [
    "test_rule['ymd'] = test_rule.time_stamp.apply(lambda x: x[:-3])\n",
    "test_rule['hour'] = test_rule.time_stamp.apply(lambda x: int(x[-2:]))\n",
    "test_rule['month'] = test_rule['ymd'].apply(lambda x: int(x[5:7]))\n",
    "test_rule = test_rule.rename(columns={'num_of_people':'num'})"
   ]
  },
  {
   "cell_type": "code",
   "execution_count": 5,
   "metadata": {
    "collapsed": true
   },
   "outputs": [],
   "source": [
    "test_model = pd.read_csv('submit/submit_gbm_normal_lgb.csv')"
   ]
  },
  {
   "cell_type": "code",
   "execution_count": 8,
   "metadata": {
    "collapsed": true
   },
   "outputs": [],
   "source": [
    "test_model['ymd'] = test_model.time_stamp.apply(lambda x: x[:-3])\n",
    "test_model['hour'] = test_model.time_stamp.apply(lambda x: int(x[-2:]))\n",
    "test_model['month'] = test_model['ymd'].apply(lambda x: int(x[5:7]))\n",
    "test_model = test_model.rename(columns={'num_of_people':'num'})"
   ]
  },
  {
   "cell_type": "code",
   "execution_count": 9,
   "metadata": {
    "collapsed": true
   },
   "outputs": [],
   "source": [
    "test_blend = test_rule.copy()"
   ]
  },
  {
   "cell_type": "code",
   "execution_count": 10,
   "metadata": {
    "collapsed": true
   },
   "outputs": [],
   "source": [
    "test_blend['num2'] = test_model['num']"
   ]
  },
  {
   "cell_type": "code",
   "execution_count": 11,
   "metadata": {},
   "outputs": [
    {
     "data": {
      "text/plain": [
       "0.41572987943955686"
      ]
     },
     "execution_count": 11,
     "metadata": {},
     "output_type": "execute_result"
    }
   ],
   "source": [
    "sum(test_blend['num'] < test_blend['num2'])/len(test_blend)"
   ]
  },
  {
   "cell_type": "code",
   "execution_count": 12,
   "metadata": {
    "collapsed": true
   },
   "outputs": [],
   "source": [
    "test_blend['xiaoyu'] = (test_blend['num'] < test_blend['num2']).astype(int)"
   ]
  },
  {
   "cell_type": "code",
   "execution_count": 13,
   "metadata": {
    "collapsed": true
   },
   "outputs": [],
   "source": [
    "test_blend['fin_num'] = 0.0"
   ]
  },
  {
   "cell_type": "code",
   "execution_count": 14,
   "metadata": {
    "collapsed": true
   },
   "outputs": [],
   "source": [
    "# 规则预测偏小的结果保留\n",
    "test_blend.loc[test_blend.xiaoyu==1, 'fin_num'] = test_blend.loc[test_blend.xiaoyu==1, 'num'] "
   ]
  },
  {
   "cell_type": "code",
   "execution_count": 15,
   "metadata": {
    "collapsed": true
   },
   "outputs": [],
   "source": [
    "# 规则预测偏大的结果与模型预测结果融合\n",
    "test_blend.loc[test_blend.xiaoyu==0, 'fin_num'] = \\\n",
    "test_blend.loc[test_blend.xiaoyu==0, 'num'] * 0.75 + 0.25 * test_blend.loc[test_blend.xiaoyu==0, 'num2']"
   ]
  },
  {
   "cell_type": "code",
   "execution_count": 16,
   "metadata": {
    "collapsed": true
   },
   "outputs": [],
   "source": [
    "test_blend = test_blend[['loc_id','fin_num','ymd','hour','month', 'time_stamp']].rename(columns={'fin_num':'num'})"
   ]
  },
  {
   "cell_type": "code",
   "execution_count": 93,
   "metadata": {
    "collapsed": true
   },
   "outputs": [],
   "source": [
    "# 乘以修正系数\n",
    "test_blend['num'] = test_blend['num'] * 0.960209838948603"
   ]
  },
  {
   "cell_type": "code",
   "execution_count": 133,
   "metadata": {
    "collapsed": true
   },
   "outputs": [],
   "source": [
    "# 修正14地点的一些异常预测情况\n",
    "test_blend.loc[(test_blend.loc_id==14)&(test_blend.hour<=6)&(test_blend.month==12), 'num'] = \\\n",
    "test_blend.loc[(test_blend.loc_id==14)&(test_blend.hour<=6)&(test_blend.month==12)]['num'].apply(lambda x: x*0.45)"
   ]
  },
  {
   "cell_type": "code",
   "execution_count": 144,
   "metadata": {
    "collapsed": true
   },
   "outputs": [],
   "source": [
    "test_blend = test_blend.rename(columns={'num':'num_of_people'})"
   ]
  },
  {
   "cell_type": "code",
   "execution_count": 146,
   "metadata": {
    "collapsed": true
   },
   "outputs": [],
   "source": [
    "test_blend[['loc_id', 'time_stamp', 'num_of_people']].to_csv('submit/submit_blend_1600.csv', index=None)"
   ]
  }
 ],
 "metadata": {
  "kernelspec": {
   "display_name": "Python 3",
   "language": "python",
   "name": "python3"
  },
  "language_info": {
   "codemirror_mode": {
    "name": "ipython",
    "version": 3
   },
   "file_extension": ".py",
   "mimetype": "text/x-python",
   "name": "python",
   "nbconvert_exporter": "python",
   "pygments_lexer": "ipython3",
   "version": "3.6.3"
  }
 },
 "nbformat": 4,
 "nbformat_minor": 2
}
