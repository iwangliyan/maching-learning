{
 "cells": [
  {
   "cell_type": "code",
   "execution_count": 1,
   "metadata": {},
   "outputs": [
    {
     "name": "stderr",
     "output_type": "stream",
     "text": [
      "/home/zhangqq/anaconda3/lib/python3.6/site-packages/sklearn/cross_validation.py:41: DeprecationWarning: This module was deprecated in version 0.18 in favor of the model_selection module into which all the refactored classes and functions are moved. Also note that the interface of the new CV iterators are different from that of this module. This module will be removed in 0.20.\n",
      "  \"This module will be removed in 0.20.\", DeprecationWarning)\n",
      "/home/zhangqq/.local/lib/python3.6/site-packages/lightgbm/basic.py:1036: UserWarning: Using categorical_feature in Dataset.\n",
      "  warnings.warn('Using categorical_feature in Dataset.')\n"
     ]
    },
    {
     "name": "stdout",
     "output_type": "stream",
     "text": [
      "Training..\n",
      "Training until validation scores don't improve for 100 rounds.\n"
     ]
    },
    {
     "name": "stderr",
     "output_type": "stream",
     "text": [
      "/home/zhangqq/.local/lib/python3.6/site-packages/lightgbm/basic.py:681: UserWarning: categorical_feature in param dict is overridden.\n",
      "  warnings.warn('categorical_feature in param dict is overridden.')\n"
     ]
    },
    {
     "name": "stdout",
     "output_type": "stream",
     "text": [
      "[100]\tvalid_0's rmse: 388.02\tvalid_0's mse: 388.02\n",
      "[200]\tvalid_0's rmse: 248.645\tvalid_0's mse: 248.645\n",
      "[300]\tvalid_0's rmse: 205.036\tvalid_0's mse: 205.036\n",
      "[400]\tvalid_0's rmse: 188.09\tvalid_0's mse: 188.09\n",
      "[500]\tvalid_0's rmse: 179.933\tvalid_0's mse: 179.933\n",
      "[600]\tvalid_0's rmse: 175.069\tvalid_0's mse: 175.069\n",
      "[700]\tvalid_0's rmse: 171.385\tvalid_0's mse: 171.385\n",
      "[800]\tvalid_0's rmse: 168.595\tvalid_0's mse: 168.595\n",
      "[900]\tvalid_0's rmse: 166.539\tvalid_0's mse: 166.539\n",
      "[1000]\tvalid_0's rmse: 164.853\tvalid_0's mse: 164.853\n",
      "[1100]\tvalid_0's rmse: 163.405\tvalid_0's mse: 163.405\n",
      "[1200]\tvalid_0's rmse: 162.35\tvalid_0's mse: 162.35\n",
      "[1300]\tvalid_0's rmse: 161.416\tvalid_0's mse: 161.416\n",
      "[1400]\tvalid_0's rmse: 160.796\tvalid_0's mse: 160.796\n",
      "[1500]\tvalid_0's rmse: 160.257\tvalid_0's mse: 160.257\n",
      "[1600]\tvalid_0's rmse: 159.706\tvalid_0's mse: 159.706\n",
      "[1700]\tvalid_0's rmse: 159.267\tvalid_0's mse: 159.267\n",
      "[1800]\tvalid_0's rmse: 158.916\tvalid_0's mse: 158.916\n",
      "[1900]\tvalid_0's rmse: 158.612\tvalid_0's mse: 158.612\n",
      "[2000]\tvalid_0's rmse: 158.251\tvalid_0's mse: 158.251\n",
      "[2100]\tvalid_0's rmse: 157.994\tvalid_0's mse: 157.994\n",
      "[2200]\tvalid_0's rmse: 157.751\tvalid_0's mse: 157.751\n",
      "[2300]\tvalid_0's rmse: 157.551\tvalid_0's mse: 157.551\n",
      "[2400]\tvalid_0's rmse: 157.333\tvalid_0's mse: 157.333\n",
      "[2500]\tvalid_0's rmse: 157.212\tvalid_0's mse: 157.212\n",
      "[2600]\tvalid_0's rmse: 157.011\tvalid_0's mse: 157.011\n",
      "[2700]\tvalid_0's rmse: 156.898\tvalid_0's mse: 156.898\n",
      "[2800]\tvalid_0's rmse: 156.828\tvalid_0's mse: 156.828\n",
      "[2900]\tvalid_0's rmse: 156.642\tvalid_0's mse: 156.642\n",
      "[3000]\tvalid_0's rmse: 156.568\tvalid_0's mse: 156.568\n",
      "[3100]\tvalid_0's rmse: 156.525\tvalid_0's mse: 156.525\n",
      "[3200]\tvalid_0's rmse: 156.421\tvalid_0's mse: 156.421\n",
      "[3300]\tvalid_0's rmse: 156.315\tvalid_0's mse: 156.315\n",
      "[3400]\tvalid_0's rmse: 156.253\tvalid_0's mse: 156.253\n",
      "[3500]\tvalid_0's rmse: 156.155\tvalid_0's mse: 156.155\n",
      "[3600]\tvalid_0's rmse: 156.096\tvalid_0's mse: 156.096\n",
      "[3700]\tvalid_0's rmse: 155.976\tvalid_0's mse: 155.976\n",
      "[3800]\tvalid_0's rmse: 155.914\tvalid_0's mse: 155.914\n",
      "[3900]\tvalid_0's rmse: 155.691\tvalid_0's mse: 155.691\n",
      "[4000]\tvalid_0's rmse: 155.528\tvalid_0's mse: 155.528\n",
      "[4100]\tvalid_0's rmse: 155.401\tvalid_0's mse: 155.401\n",
      "[4200]\tvalid_0's rmse: 155.378\tvalid_0's mse: 155.378\n",
      "[4300]\tvalid_0's rmse: 155.304\tvalid_0's mse: 155.304\n",
      "[4400]\tvalid_0's rmse: 155.264\tvalid_0's mse: 155.264\n",
      "[4500]\tvalid_0's rmse: 155.203\tvalid_0's mse: 155.203\n",
      "[4600]\tvalid_0's rmse: 155.126\tvalid_0's mse: 155.126\n",
      "[4700]\tvalid_0's rmse: 155.023\tvalid_0's mse: 155.023\n",
      "[4800]\tvalid_0's rmse: 154.987\tvalid_0's mse: 154.987\n",
      "[4900]\tvalid_0's rmse: 154.922\tvalid_0's mse: 154.922\n",
      "[5000]\tvalid_0's rmse: 154.882\tvalid_0's mse: 154.882\n",
      "[5100]\tvalid_0's rmse: 154.795\tvalid_0's mse: 154.795\n",
      "[5200]\tvalid_0's rmse: 154.738\tvalid_0's mse: 154.738\n",
      "[5300]\tvalid_0's rmse: 154.704\tvalid_0's mse: 154.704\n",
      "[5400]\tvalid_0's rmse: 154.687\tvalid_0's mse: 154.687\n",
      "Early stopping, best iteration is:\n",
      "[5394]\tvalid_0's rmse: 154.684\tvalid_0's mse: 154.684\n",
      "loc_hour        42293\n",
      "loc_week        38009\n",
      "hour_rate       23451\n",
      "loc_rate        18923\n",
      "hour_weather    18349\n",
      "week_rate       16959\n",
      "loc_weather     15631\n",
      "week_weather    13271\n",
      "pressure        11097\n",
      "SSD             10766\n",
      "temperature      9844\n",
      "humidity         9175\n",
      "hour             8844\n",
      "hour_week        8118\n",
      "O3_8h            7915\n",
      "loc_id           7617\n",
      "wind_v           6507\n",
      "wind_u           6361\n",
      "wind_speed       5786\n",
      "PM10             4853\n",
      "NO2              4689\n",
      "PM2.5            4588\n",
      "week_num         4292\n",
      "data_mean        3657\n",
      "AQI              3630\n",
      "data_max         2617\n",
      "CO               2588\n",
      "SO2              2530\n",
      "week             1615\n",
      "data_median      1516\n",
      "rate_weather     1456\n",
      "data_min          909\n",
      "rate              248\n",
      "weather           142\n",
      "dtype: int64\n"
     ]
    },
    {
     "name": "stderr",
     "output_type": "stream",
     "text": [
      "/home/zhangqq/anaconda3/lib/python3.6/site-packages/ipykernel_launcher.py:63: SettingWithCopyWarning: \n",
      "A value is trying to be set on a copy of a slice from a DataFrame.\n",
      "Try using .loc[row_indexer,col_indexer] = value instead\n",
      "\n",
      "See the caveats in the documentation: http://pandas.pydata.org/pandas-docs/stable/indexing.html#indexing-view-versus-copy\n"
     ]
    }
   ],
   "source": [
    "import time\n",
    "import datetime\n",
    "import math\n",
    "import numpy as np\n",
    "import pandas as pd\n",
    "import lightgbm as lgb\n",
    "from dateutil.parser import parse\n",
    "from sklearn.cross_validation import KFold\n",
    "from sklearn.metrics import mean_squared_error\n",
    "\n",
    "\n",
    "train = pd.read_csv('./chouchoukan.csv')\n",
    "\n",
    "test = pd.read_csv('./test_X.csv')\n",
    "# train = train.drop(['data_min_week','data_median','data_min','data_max','data_mean'],axis = 1)\n",
    "# test = test.drop(['data_min_week','data_median','data_min','data_max','data_mean'],axis = 1)\n",
    "# print(train['holiday'])\n",
    "del test['holiday']\n",
    "\n",
    "del train['holiday']\n",
    "# train = train.astype('float64')\n",
    "predictors = [f for f in train.columns if f not in ['phone_num','time_stamp']]\n",
    "\n",
    "def evalerror(pred, df):\n",
    "    label = df.get_label().values.copy()\n",
    "    score = math.sqrt(mean_squared_error(label,pred))\n",
    "    return ('mse',score,False)\n",
    "\n",
    "print('Training..')\n",
    "params = {\n",
    "    'learning_rate': 0.01,\n",
    "    'boosting_type': 'gbdt',\n",
    "    'objective': 'regression',\n",
    "    'metric': 'rmse',\n",
    "    'sub_feature': 0.7,\n",
    "    'num_leaves': 60,\n",
    "    'colsample_bytree': 0.7,\n",
    "    'feature_fraction': 0.7,\n",
    "    'min_data': 100,\n",
    "    'min_hessian': 1,\n",
    "    'verbose': -1,\n",
    "}\n",
    "\n",
    "from sklearn.cross_validation import train_test_split  \n",
    "train_feat, val_feat, train_y, val_y = train_test_split(train[predictors],train['phone_num'],test_size = 0.2,random_state=42) \n",
    "\n",
    "lgb_train = lgb.Dataset(train_feat, train_y,categorical_feature=['loc_hour','loc_week','loc_rate','loc_weather','hour_rate','hour_weather','hour_week','week_rate','week_weather','rate_weather','loc_id','week','hour','weather','rate'])\n",
    "lgb_val = lgb.Dataset(val_feat, val_y,categorical_feature=['loc_hour','loc_week','loc_rate','loc_weather','hour_rate','hour_weather','hour_week','week_rate','week_weather','rate_weather','loc_id','week','hour','weather','rate'])\n",
    "gbm = lgb.train(params,\n",
    "                lgb_train,\n",
    "                num_boost_round=50000,\n",
    "                valid_sets=lgb_val,\n",
    "                verbose_eval=100,\n",
    "                feval=evalerror,\n",
    "                early_stopping_rounds=100)\n",
    "print(pd.Series(gbm.feature_importance(),index = predictors).sort_values(ascending = False))\n",
    "# import pickle\n",
    "# with open('gbm_pm25_ld.pkl', 'wb') as f:\n",
    "#     pickle.dump(gbm, f)\n",
    "test_x = test[['loc_id','time_stamp']]\n",
    "\n",
    "\n",
    "test_x['time_stamp'] = test_x['time_stamp'].apply(lambda x: x.split(':')[0])  \n",
    "\n",
    "\n",
    "test_y = gbm.predict(test[predictors])\n",
    "\n",
    "\n"
   ]
  },
  {
   "cell_type": "code",
   "execution_count": 2,
   "metadata": {},
   "outputs": [
    {
     "name": "stderr",
     "output_type": "stream",
     "text": [
      "/home/zhangqq/anaconda3/lib/python3.6/site-packages/ipykernel_launcher.py:8: SettingWithCopyWarning: \n",
      "A value is trying to be set on a copy of a slice from a DataFrame\n",
      "\n",
      "See the caveats in the documentation: http://pandas.pydata.org/pandas-docs/stable/indexing.html#indexing-view-versus-copy\n",
      "  \n"
     ]
    }
   ],
   "source": [
    "test_y = pd.DataFrame(test_y)\n",
    "test_y.columns = ['num_of_people']\n",
    "test_y['num_of_people'] = test_y['num_of_people'].astype('int32')\n",
    "data = pd.concat([test_x, test_y],axis = 1)\n",
    "\n",
    "\n",
    "\n",
    "data['num_of_people'][data['num_of_people']<=0] = 20\n",
    "data.to_csv('submit.csv',index = False)"
   ]
  },
  {
   "cell_type": "code",
   "execution_count": 3,
   "metadata": {},
   "outputs": [
    {
     "name": "stdout",
     "output_type": "stream",
     "text": [
      "29.032358876826766\n"
     ]
    }
   ],
   "source": [
    "train = pd.read_csv('./submit.csv')\n",
    "dev = pd.read_csv('./submit248.csv')\n",
    "\n",
    "score = math.sqrt(mean_squared_error(train['num_of_people'],dev['num_of_people']))\n",
    "print(score)"
   ]
  },
  {
   "cell_type": "code",
   "execution_count": null,
   "metadata": {},
   "outputs": [],
   "source": []
  }
 ],
 "metadata": {
  "kernelspec": {
   "display_name": "Python 3",
   "language": "python",
   "name": "python3"
  },
  "language_info": {
   "codemirror_mode": {
    "name": "ipython",
    "version": 3
   },
   "file_extension": ".py",
   "mimetype": "text/x-python",
   "name": "python",
   "nbconvert_exporter": "python",
   "pygments_lexer": "ipython3",
   "version": "3.6.4"
  }
 },
 "nbformat": 4,
 "nbformat_minor": 2
}
